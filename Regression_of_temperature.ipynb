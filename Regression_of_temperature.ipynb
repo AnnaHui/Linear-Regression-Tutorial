{
 "cells": [
  {
   "cell_type": "code",
   "execution_count": 371,
   "metadata": {},
   "outputs": [],
   "source": [
    "import numpy as np\n",
    "import matplotlib.pyplot as plt"
   ]
  },
  {
   "cell_type": "code",
   "execution_count": 372,
   "metadata": {},
   "outputs": [],
   "source": [
    "sample_num = 50\n",
    "split_rate = 0.2 # HOW TO DIVIDE TRAINING DATA AND TESTING DATA\n",
    "c = np.round(np.random.uniform(-127,100,sample_num))\n",
    "#c.sort()\n",
    "f = np.round((9/5)*c + 32)"
   ]
  },
  {
   "cell_type": "code",
   "execution_count": 373,
   "metadata": {
    "scrolled": true
   },
   "outputs": [],
   "source": [
    "# original data combine with bias,\n",
    "# just like y = Ax + b\n",
    "c = c.reshape(-1,1)\n",
    "c_b = np.concatenate((c, np.ones(len(c)).reshape(-1,1)), axis=1)\n",
    "\n",
    "# training data\n",
    "train_X = c_b[:-round(sample_num*split_rate)]\n",
    "train_y = f[:-round(sample_num*split_rate)]\n",
    "\n",
    "# testing data\n",
    "test_X = c_b[-round(sample_num*split_rate):]\n",
    "test_y = f[-round(sample_num*split_rate):]"
   ]
  },
  {
   "cell_type": "code",
   "execution_count": 374,
   "metadata": {},
   "outputs": [],
   "source": [
    "def least_square_equation(X, y):\n",
    "    # write down the answer of Least square equation !\n",
    "    # (X.T*X)^-1*X.T*y\n",
    "    return np.dot(np.dot(np.linalg.inv(np.dot(X.T, X)), X.T), y)"
   ]
  },
  {
   "cell_type": "code",
   "execution_count": 375,
   "metadata": {},
   "outputs": [],
   "source": [
    "def sum_of_square_error(fx, y):\n",
    "    E = y - fx\n",
    "    # write down the answer of Sum square error !\n",
    "    # E.T*E\n",
    "    return np.dot(E.T,E)"
   ]
  },
  {
   "cell_type": "code",
   "execution_count": 376,
   "metadata": {},
   "outputs": [],
   "source": [
    "def linear_regression(X, y):\n",
    "    W = least_square_equation(X, y)\n",
    "    return W # the weight A ([weight]*[x] = [y])"
   ]
  },
  {
   "cell_type": "code",
   "execution_count": 377,
   "metadata": {},
   "outputs": [
    {
     "data": {
      "text/plain": [
       "array([-0.36044479, -0.38767335, -0.19608945,  0.19079134, -0.19856477,\n",
       "        0.21306925,  0.02891132,  0.38732589,  0.21059392, -0.392624  ])"
      ]
     },
     "execution_count": 377,
     "metadata": {},
     "output_type": "execute_result"
    }
   ],
   "source": [
    "weight = linear_regression(train_X,train_y) # get weight\n",
    "pred_y = np.sum(weight*test_X, axis=1) # weight * X\n",
    "SSE = sum_of_square_error(pred_y, test_y) # get current error\n",
    "pred_y-test_y # the individual error "
   ]
  },
  {
   "cell_type": "code",
   "execution_count": 378,
   "metadata": {},
   "outputs": [
    {
     "data": {
      "text/plain": [
       "0.7892505621168828"
      ]
     },
     "execution_count": 378,
     "metadata": {},
     "output_type": "execute_result"
    }
   ],
   "source": [
    "SSE # the total error in this testing phase"
   ]
  },
  {
   "cell_type": "code",
   "execution_count": 379,
   "metadata": {},
   "outputs": [
    {
     "data": {
      "text/plain": [
       "array([ 1.79975247, 32.01034639])"
      ]
     },
     "execution_count": 379,
     "metadata": {},
     "output_type": "execute_result"
    }
   ],
   "source": [
    "weight # the predict weight as opposed to initial weight: (9/5)*x + 32"
   ]
  },
  {
   "cell_type": "code",
   "execution_count": 380,
   "metadata": {},
   "outputs": [],
   "source": [
    "# the prediction curve\n",
    "X = np.arange(-127, 101,1)\n",
    "x = np.concatenate((X.reshape(-1,1), np.ones(len(X)).reshape(-1,1)), axis=1)\n",
    "fx = fx = np.dot(x, weight)"
   ]
  },
  {
   "cell_type": "code",
   "execution_count": 381,
   "metadata": {},
   "outputs": [],
   "source": [
    "# the actural curve\n",
    "real_X = np.arange(-127, 101,1)\n",
    "real_fx = np.round((9/5)*X + 32)"
   ]
  },
  {
   "cell_type": "code",
   "execution_count": 382,
   "metadata": {},
   "outputs": [
    {
     "data": {
      "image/png": "[encoded data removed]",
      "text/plain": [
       "<matplotlib.figure.Figure at 0x7f73bd4465c0>"
      ]
     },
     "metadata": {},
     "output_type": "display_data"
    }
   ],
   "source": [
    "plt.plot(real_X,real_fx, label='actural y') # the actural curve \n",
    "#plt.plot(X,fx, label='predict y') # the prediction curve\n",
    "plt.scatter(test_X[:,0] ,pred_y,  label='regression y',c='r')\n",
    "plt.legend(loc='upper right')\n",
    "plt.ylabel('target')\n",
    "plt.xlabel('data number')\n",
    "plt.show()"
   ]
  },
  {
   "cell_type": "code",
   "execution_count": null,
   "metadata": {},
   "outputs": [],
   "source": []
  },
  {
   "cell_type": "code",
   "execution_count": null,
   "metadata": {},
   "outputs": [],
   "source": []
  }
 ],
 "metadata": {
  "kernelspec": {
   "display_name": "Python 3",
   "language": "python",
   "name": "python3"
  },
  "language_info": {
   "codemirror_mode": {
    "name": "ipython",
    "version": 3
   },
   "file_extension": ".py",
   "mimetype": "text/x-python",
   "name": "python",
   "nbconvert_exporter": "python",
   "pygments_lexer": "ipython3",
   "version": "3.5.2"
  }
 },
 "nbformat": 4,
 "nbformat_minor": 2
}
