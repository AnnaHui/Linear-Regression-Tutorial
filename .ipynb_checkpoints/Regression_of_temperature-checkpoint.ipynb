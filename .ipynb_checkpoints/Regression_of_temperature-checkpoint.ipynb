{
 "cells": [
  {
   "cell_type": "code",
   "execution_count": 2,
   "metadata": {},
   "outputs": [],
   "source": [
    "import numpy as np\n",
    "import matplotlib.pyplot as plt"
   ]
  },
  {
   "cell_type": "code",
   "execution_count": 3,
   "metadata": {},
   "outputs": [],
   "source": [
    "sample_num = 50\n",
    "split_rate = 0.2 # HOW TO DIVIDE TRAINING DATA AND TESTING DATA\n",
    "c = np.round(np.random.uniform(-127,100,sample_num))\n",
    "#c.sort()\n",
    "f = np.round((9/5)*c + 32)"
   ]
  },
  {
   "cell_type": "code",
   "execution_count": 4,
   "metadata": {
    "scrolled": true
   },
   "outputs": [],
   "source": [
    "# original data combine with bias,\n",
    "# just like y = Ax + b\n",
    "c = c.reshape(-1,1)\n",
    "c_b = np.concatenate((c, np.ones(len(c)).reshape(-1,1)), axis=1)\n",
    "\n",
    "# training data\n",
    "train_X = c_b[:-round(sample_num*split_rate)]\n",
    "train_y = f[:-round(sample_num*split_rate)]\n",
    "\n",
    "# testing data\n",
    "test_X = c_b[-round(sample_num*split_rate):]\n",
    "test_y = f[-round(sample_num*split_rate):]"
   ]
  },
  {
   "cell_type": "code",
   "execution_count": 5,
   "metadata": {},
   "outputs": [],
   "source": [
    "def least_square_equation(X, y):\n",
    "    # write down the answer of Least square equation !\n",
    "    # (X.T*X)^-1*X.T*y\n",
    "    return np.dot(np.dot(np.linalg.inv(np.dot(X.T, X)), X.T), y)"
   ]
  },
  {
   "cell_type": "code",
   "execution_count": 6,
   "metadata": {},
   "outputs": [],
   "source": [
    "def sum_of_square_error(fx, y):\n",
    "    E = y - fx\n",
    "    # write down the answer of Sum square error !\n",
    "    # E.T*E\n",
    "    return np.dot(E.T,E)"
   ]
  },
  {
   "cell_type": "code",
   "execution_count": 7,
   "metadata": {},
   "outputs": [],
   "source": [
    "def linear_regression(X, y):\n",
    "    W = least_square_equation(X, y)\n",
    "    return W # the weight A ([weight]*[x] = [y])"
   ]
  },
  {
   "cell_type": "code",
   "execution_count": 8,
   "metadata": {},
   "outputs": [
    {
     "data": {
      "text/plain": [
       "array([ 0.38016622, -0.00379153,  0.16074664, -0.010124  , -0.24854098,\n",
       "       -0.40463586,  0.00465176, -0.176773  , -0.20843534, -0.03334305])"
      ]
     },
     "execution_count": 8,
     "metadata": {},
     "output_type": "execute_result"
    }
   ],
   "source": [
    "weight = linear_regression(train_X,train_y) # get weight\n",
    "pred_y = np.sum(weight*test_X, axis=1) # weight * X\n",
    "SSE = sum_of_square_error(pred_y, test_y) # get current error\n",
    "pred_y-test_y # the individual error "
   ]
  },
  {
   "cell_type": "code",
   "execution_count": 9,
   "metadata": {},
   "outputs": [
    {
     "data": {
      "text/plain": [
       "0.4718128831665371"
      ]
     },
     "execution_count": 9,
     "metadata": {},
     "output_type": "execute_result"
    }
   ],
   "source": [
    "SSE # the total error in this testing phase"
   ]
  },
  {
   "cell_type": "code",
   "execution_count": 10,
   "metadata": {},
   "outputs": [
    {
     "data": {
      "text/plain": [
       "array([ 1.79957784, 31.98776518])"
      ]
     },
     "execution_count": 10,
     "metadata": {},
     "output_type": "execute_result"
    }
   ],
   "source": [
    "weight # the predict weight as opposed to initial weight: (9/5)*x + 32"
   ]
  },
  {
   "cell_type": "code",
   "execution_count": 11,
   "metadata": {},
   "outputs": [],
   "source": [
    "# the prediction curve\n",
    "X = np.arange(-127, 101,1)\n",
    "x = np.concatenate((X.reshape(-1,1), np.ones(len(X)).reshape(-1,1)), axis=1)\n",
    "fx = fx = np.dot(x, weight)"
   ]
  },
  {
   "cell_type": "code",
   "execution_count": 12,
   "metadata": {},
   "outputs": [],
   "source": [
    "# the actural curve\n",
    "real_X = np.arange(-127, 101,1)\n",
    "real_fx = np.round((9/5)*X + 32)"
   ]
  },
  {
   "cell_type": "code",
   "execution_count": 13,
   "metadata": {},
   "outputs": [
    {
     "data": {
      "image/png": "[encoded data removed]",
      "text/plain": [
       "<matplotlib.figure.Figure at 0x7fcd86f24240>"
      ]
     },
     "metadata": {},
     "output_type": "display_data"
    }
   ],
   "source": [
    "plt.plot(real_X,real_fx, label='actural y') # the actural curve \n",
    "#plt.plot(X,fx, label='predict y') # the prediction curve\n",
    "plt.scatter(test_X[:,0] ,pred_y,  label='regression y',c='r')\n",
    "plt.legend(loc='upper right')\n",
    "plt.ylabel('F')\n",
    "plt.xlabel('C')\n",
    "plt.show()"
   ]
  },
  {
   "cell_type": "code",
   "execution_count": null,
   "metadata": {},
   "outputs": [],
   "source": []
  },
  {
   "cell_type": "code",
   "execution_count": null,
   "metadata": {},
   "outputs": [],
   "source": []
  }
 ],
 "metadata": {
  "kernelspec": {
   "display_name": "Python 3",
   "language": "python",
   "name": "python3"
  },
  "language_info": {
   "codemirror_mode": {
    "name": "ipython",
    "version": 3
   },
   "file_extension": ".py",
   "mimetype": "text/x-python",
   "name": "python",
   "nbconvert_exporter": "python",
   "pygments_lexer": "ipython3",
   "version": "3.5.2"
  }
 },
 "nbformat": 4,
 "nbformat_minor": 2
}
