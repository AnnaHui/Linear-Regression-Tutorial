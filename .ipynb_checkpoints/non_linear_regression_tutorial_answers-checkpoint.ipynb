{
 "cells": [
  {
   "cell_type": "markdown",
   "metadata": {},
   "source": [
    "# Non-Linear Regression"
   ]
  },
  {
   "cell_type": "code",
   "execution_count": 1,
   "metadata": {},
   "outputs": [],
   "source": [
    "import matplotlib.pyplot as plt\n",
    "import numpy as np\n",
    "import pandas as pd\n",
    "from sklearn import linear_model, model_selection, metrics\n",
    "import random\n",
    "import datetime"
   ]
  },
  {
   "cell_type": "markdown",
   "metadata": {},
   "source": [
    "When we did linear regression we constrained our hypothesis to the space of linear functions. But in many cases the true function will not be linear.\n",
    "\n",
    "In this tutorial we will consider adding non-linear terms to our regression model."
   ]
  },
  {
   "cell_type": "markdown",
   "metadata": {},
   "source": [
    "## Dataset\n",
    "\n",
    "We will use a dataset with atmospheric ozone concentration from eight daily meteorological measurements made in the Los Angeles basin in 1976.  Downloaded from https://web.stanford.edu/~hastie/ElemStatLearn/datasets/LAozone.data.\n",
    "\n",
    "We want to regress the following features onto ozone concentrataion `ozone`:\n",
    "- vh : Vandenberg 500 mb Height\n",
    "- wind : Wind Speed (mph)\n",
    "- humidity : Humidity (%)\n",
    "- temp : Sandburg AFB Temperature\n",
    "- ibh : Inversion Base Height\n",
    "- dpg : Daggot Pressure Gradient\n",
    "- ibt : Inversion Base Temperature\n",
    "- vis : Visibility (miles)\n",
    "- doy : Day of the Year\n",
    "\n",
    "One important difference with this dataset is we have a **categorical variable**: `doy`. We will have to learn how to deal with this below.\n",
    "\n",
    "Let's start by loading the data and visualizing the relationships. Create a variable `data` with the data loaded into a pandas `DataFrame`. We have again provided the `file_name`. However note that this time the separator is `','` and we have no id column."
   ]
  },
  {
   "cell_type": "code",
   "execution_count": 2,
   "metadata": {},
   "outputs": [],
   "source": [
    "\"\"\"\n",
    "Task: Use pd.read_csv again to load this data\n",
    "\"\"\"\n",
    "file_name = 'LAozone.data'\n",
    "data = pd.read_csv(file_name, sep=',')"
   ]
  },
  {
   "cell_type": "code",
   "execution_count": 3,
   "metadata": {},
   "outputs": [
    {
     "name": "stdout",
     "output_type": "stream",
     "text": [
      "Success!\n"
     ]
    }
   ],
   "source": [
    "assert len(data) == 330\n",
    "assert len(data.columns) == 10\n",
    "print('Success!')"
   ]
  },
  {
   "cell_type": "markdown",
   "metadata": {},
   "source": [
    "Let's have a quick look at the head of the dataframe to see what we are dealing with"
   ]
  },
  {
   "cell_type": "code",
   "execution_count": 94,
   "metadata": {},
   "outputs": [
    {
     "data": {
      "text/html": [
       "<div>\n",
       "<style scoped>\n",
       "    .dataframe tbody tr th:only-of-type {\n",
       "        vertical-align: middle;\n",
       "    }\n",
       "\n",
       "    .dataframe tbody tr th {\n",
       "        vertical-align: top;\n",
       "    }\n",
       "\n",
       "    .dataframe thead th {\n",
       "        text-align: right;\n",
       "    }\n",
       "</style>\n",
       "<table border=\"1\" class=\"dataframe\">\n",
       "  <thead>\n",
       "    <tr style=\"text-align: right;\">\n",
       "      <th></th>\n",
       "      <th>ozone</th>\n",
       "      <th>vh</th>\n",
       "      <th>wind</th>\n",
       "      <th>humidity</th>\n",
       "      <th>temp</th>\n",
       "      <th>ibh</th>\n",
       "      <th>dpg</th>\n",
       "      <th>ibt</th>\n",
       "      <th>vis</th>\n",
       "      <th>doy</th>\n",
       "    </tr>\n",
       "  </thead>\n",
       "  <tbody>\n",
       "    <tr>\n",
       "      <th>0</th>\n",
       "      <td>3</td>\n",
       "      <td>5710</td>\n",
       "      <td>4</td>\n",
       "      <td>28</td>\n",
       "      <td>40</td>\n",
       "      <td>2693</td>\n",
       "      <td>-25</td>\n",
       "      <td>87</td>\n",
       "      <td>250</td>\n",
       "      <td>3</td>\n",
       "    </tr>\n",
       "    <tr>\n",
       "      <th>1</th>\n",
       "      <td>5</td>\n",
       "      <td>5700</td>\n",
       "      <td>3</td>\n",
       "      <td>37</td>\n",
       "      <td>45</td>\n",
       "      <td>590</td>\n",
       "      <td>-24</td>\n",
       "      <td>128</td>\n",
       "      <td>100</td>\n",
       "      <td>4</td>\n",
       "    </tr>\n",
       "    <tr>\n",
       "      <th>2</th>\n",
       "      <td>5</td>\n",
       "      <td>5760</td>\n",
       "      <td>3</td>\n",
       "      <td>51</td>\n",
       "      <td>54</td>\n",
       "      <td>1450</td>\n",
       "      <td>25</td>\n",
       "      <td>139</td>\n",
       "      <td>60</td>\n",
       "      <td>5</td>\n",
       "    </tr>\n",
       "    <tr>\n",
       "      <th>3</th>\n",
       "      <td>6</td>\n",
       "      <td>5720</td>\n",
       "      <td>4</td>\n",
       "      <td>69</td>\n",
       "      <td>35</td>\n",
       "      <td>1568</td>\n",
       "      <td>15</td>\n",
       "      <td>121</td>\n",
       "      <td>60</td>\n",
       "      <td>6</td>\n",
       "    </tr>\n",
       "    <tr>\n",
       "      <th>4</th>\n",
       "      <td>4</td>\n",
       "      <td>5790</td>\n",
       "      <td>6</td>\n",
       "      <td>19</td>\n",
       "      <td>45</td>\n",
       "      <td>2631</td>\n",
       "      <td>-33</td>\n",
       "      <td>123</td>\n",
       "      <td>100</td>\n",
       "      <td>7</td>\n",
       "    </tr>\n",
       "  </tbody>\n",
       "</table>\n",
       "</div>"
      ],
      "text/plain": [
       "   ozone    vh  wind  humidity  temp   ibh  dpg  ibt  vis  doy\n",
       "0      3  5710     4        28    40  2693  -25   87  250    3\n",
       "1      5  5700     3        37    45   590  -24  128  100    4\n",
       "2      5  5760     3        51    54  1450   25  139   60    5\n",
       "3      6  5720     4        69    35  1568   15  121   60    6\n",
       "4      4  5790     6        19    45  2631  -33  123  100    7"
      ]
     },
     "execution_count": 94,
     "metadata": {},
     "output_type": "execute_result"
    }
   ],
   "source": [
    "data.head()"
   ]
  },
  {
   "cell_type": "markdown",
   "metadata": {},
   "source": [
    "Now to investigate the relationships in the data. Let's start with `temp` versus `ozone` - your task. Use `plt.scatter`."
   ]
  },
  {
   "cell_type": "code",
   "execution_count": 4,
   "metadata": {},
   "outputs": [
    {
     "data": {
      "image/png": "[encoded data removed]",
      "text/plain": [
       "<Figure size 432x288 with 1 Axes>"
      ]
     },
     "metadata": {},
     "output_type": "display_data"
    }
   ],
   "source": [
    "\"\"\"\n",
    "Task: Produce the scatterplot showing age versus ozone\n",
    "\"\"\"\n",
    "plt.scatter(data['temp'], data['ozone'])\n",
    "plt.xlabel('temp')\n",
    "plt.ylabel('ozone')\n",
    "plt.show()"
   ]
  },
  {
   "cell_type": "markdown",
   "metadata": {},
   "source": [
    "We can definitely see a non-linear relationship there, it looks quadratic."
   ]
  },
  {
   "cell_type": "markdown",
   "metadata": {},
   "source": [
    "## Non-Linear Model\n",
    "\n",
    "A univariate linear model regressing `temp` to `ozone` would be\n",
    "\n",
    "$$h_\\theta = a_1 + a_2 \\times \\text{temp}$$\n",
    "\n",
    "We can make this (e.g.) a quadratic model by simply adding one more weight and a squared temp feature\n",
    "\n",
    "$$h_\\theta = a_1 + a_2 \\times \\text{temp}^2 + a_3 \\times \\text{temp}$$\n",
    "\n",
    "We can still use our linear model - i.e. `sklearn.linear_model.LinearRegression`. All we need to do is add this new feature to our design matrix - your next task.\n",
    "\n",
    "You can add a new column to a pandas `DataFrame` with the syntax\n",
    "\n",
    "```\n",
    "data['new_column'] = new_column\n",
    "```\n",
    "\n",
    "In this case we just want to square (`**2` in python) another column.\n",
    "\n",
    "The new column must be named `temp_squared`."
   ]
  },
  {
   "cell_type": "code",
   "execution_count": 96,
   "metadata": {},
   "outputs": [],
   "source": [
    "\"\"\"\n",
    "Task: Add squared age to the design matrix\n",
    "\"\"\"\n",
    "data['temp_squared'] = data['temp']**2"
   ]
  },
  {
   "cell_type": "code",
   "execution_count": 97,
   "metadata": {},
   "outputs": [
    {
     "name": "stdout",
     "output_type": "stream",
     "text": [
      "Success!\n"
     ]
    }
   ],
   "source": [
    "assert len(data.columns) == 11\n",
    "assert 'temp_squared' in data.columns\n",
    "print('Success!')"
   ]
  },
  {
   "cell_type": "markdown",
   "metadata": {},
   "source": [
    "Let's inspect and make sure it looks right"
   ]
  },
  {
   "cell_type": "code",
   "execution_count": 98,
   "metadata": {},
   "outputs": [
    {
     "data": {
      "text/html": [
       "<div>\n",
       "<style scoped>\n",
       "    .dataframe tbody tr th:only-of-type {\n",
       "        vertical-align: middle;\n",
       "    }\n",
       "\n",
       "    .dataframe tbody tr th {\n",
       "        vertical-align: top;\n",
       "    }\n",
       "\n",
       "    .dataframe thead th {\n",
       "        text-align: right;\n",
       "    }\n",
       "</style>\n",
       "<table border=\"1\" class=\"dataframe\">\n",
       "  <thead>\n",
       "    <tr style=\"text-align: right;\">\n",
       "      <th></th>\n",
       "      <th>ozone</th>\n",
       "      <th>vh</th>\n",
       "      <th>wind</th>\n",
       "      <th>humidity</th>\n",
       "      <th>temp</th>\n",
       "      <th>ibh</th>\n",
       "      <th>dpg</th>\n",
       "      <th>ibt</th>\n",
       "      <th>vis</th>\n",
       "      <th>doy</th>\n",
       "      <th>temp_squared</th>\n",
       "    </tr>\n",
       "  </thead>\n",
       "  <tbody>\n",
       "    <tr>\n",
       "      <th>0</th>\n",
       "      <td>3</td>\n",
       "      <td>5710</td>\n",
       "      <td>4</td>\n",
       "      <td>28</td>\n",
       "      <td>40</td>\n",
       "      <td>2693</td>\n",
       "      <td>-25</td>\n",
       "      <td>87</td>\n",
       "      <td>250</td>\n",
       "      <td>3</td>\n",
       "      <td>1600</td>\n",
       "    </tr>\n",
       "    <tr>\n",
       "      <th>1</th>\n",
       "      <td>5</td>\n",
       "      <td>5700</td>\n",
       "      <td>3</td>\n",
       "      <td>37</td>\n",
       "      <td>45</td>\n",
       "      <td>590</td>\n",
       "      <td>-24</td>\n",
       "      <td>128</td>\n",
       "      <td>100</td>\n",
       "      <td>4</td>\n",
       "      <td>2025</td>\n",
       "    </tr>\n",
       "    <tr>\n",
       "      <th>2</th>\n",
       "      <td>5</td>\n",
       "      <td>5760</td>\n",
       "      <td>3</td>\n",
       "      <td>51</td>\n",
       "      <td>54</td>\n",
       "      <td>1450</td>\n",
       "      <td>25</td>\n",
       "      <td>139</td>\n",
       "      <td>60</td>\n",
       "      <td>5</td>\n",
       "      <td>2916</td>\n",
       "    </tr>\n",
       "    <tr>\n",
       "      <th>3</th>\n",
       "      <td>6</td>\n",
       "      <td>5720</td>\n",
       "      <td>4</td>\n",
       "      <td>69</td>\n",
       "      <td>35</td>\n",
       "      <td>1568</td>\n",
       "      <td>15</td>\n",
       "      <td>121</td>\n",
       "      <td>60</td>\n",
       "      <td>6</td>\n",
       "      <td>1225</td>\n",
       "    </tr>\n",
       "    <tr>\n",
       "      <th>4</th>\n",
       "      <td>4</td>\n",
       "      <td>5790</td>\n",
       "      <td>6</td>\n",
       "      <td>19</td>\n",
       "      <td>45</td>\n",
       "      <td>2631</td>\n",
       "      <td>-33</td>\n",
       "      <td>123</td>\n",
       "      <td>100</td>\n",
       "      <td>7</td>\n",
       "      <td>2025</td>\n",
       "    </tr>\n",
       "  </tbody>\n",
       "</table>\n",
       "</div>"
      ],
      "text/plain": [
       "   ozone    vh  wind  humidity  temp   ibh  dpg  ibt  vis  doy  temp_squared\n",
       "0      3  5710     4        28    40  2693  -25   87  250    3          1600\n",
       "1      5  5700     3        37    45   590  -24  128  100    4          2025\n",
       "2      5  5760     3        51    54  1450   25  139   60    5          2916\n",
       "3      6  5720     4        69    35  1568   15  121   60    6          1225\n",
       "4      4  5790     6        19    45  2631  -33  123  100    7          2025"
      ]
     },
     "execution_count": 98,
     "metadata": {},
     "output_type": "execute_result"
    }
   ],
   "source": [
    "data.head()"
   ]
  },
  {
   "cell_type": "markdown",
   "metadata": {},
   "source": [
    "## Categorical Features\n",
    "\n",
    "We are nearly ready to fit our model. We just have to deal with the categorical feature.\n",
    "\n",
    "The model expects a continuous input so we cannot arbitrarily define integers. For example, if we have one feature for every day of the year and we represent them as integers, the model will assume an ordering when there might not be. Although in this case there *is* an ordering of sorts - one day follows the other - it is not true that day `2` is somehow *1 more* than day `1`. There is likely to be temporal patterns, potentially recurrent ones, but we won't deal with those today.\n",
    "\n",
    "In general, to deal with categorical data we make **one hot encodings**: we add binary features (`0` or `1`) of each category to indicate their presence. With $m$ categories we add $m$ binary features. If we only had two categories (e.g. night $:=x_2$ and day$:=x_3$) we our updated model would look like\n",
    "\n",
    "$$h_\\theta = a_1 + a_2 x_1^2 + a_3 x_1 + a_4x_2 + a_5x_3$$\n",
    "\n",
    "As a more visual example of the change in the design matrix following one-hot encoding\n",
    "\n",
    "$$\n",
    "\\mathbf{X} = \n",
    "\\begin{bmatrix}\n",
    "  1 & 1 & \\text{male} \\\\\n",
    "  1 & 2 & \\text{female} \\\\\n",
    "  1 & 3 & \\text{male} \\\\\n",
    "\\end{bmatrix}\n",
    "\\Rightarrow \n",
    "\\begin{bmatrix}\n",
    "  1 & 1 & 1 & 0 \\\\\n",
    "  1 & 2 & 0 & 1 \\\\\n",
    "  1 & 3 & 1 & 0 \\\\\n",
    "\\end{bmatrix}\n",
    "$$\n",
    "\n",
    "The same principal applies for cases where we have multiple labels, not just two. For a fuller reference on this aspect of preprocessing see this page http://scikit-learn.org/stable/modules/preprocessing.html.\n",
    "\n",
    "The problem with this variable as it is: we have 330 data points and 330 unique classes. It likely carries no information to include this feature as it is. But we can still use it - we have to do some **feature engineering**."
   ]
  },
  {
   "cell_type": "code",
   "execution_count": 100,
   "metadata": {},
   "outputs": [
    {
     "data": {
      "text/plain": [
       "330"
      ]
     },
     "execution_count": 100,
     "metadata": {},
     "output_type": "execute_result"
    }
   ],
   "source": [
    "len(data['doy'].unique())"
   ]
  },
  {
   "cell_type": "markdown",
   "metadata": {},
   "source": [
    "## Feature Engineering\n",
    "\n",
    "Traditional machine learning (before deep learning) involved trying to find useful features we could give to our machine learning algorithms so they could perform better.\n",
    "\n",
    "In this case, take a minute now to think about how we might be able to use the day of the year (we know it's 1976) to find something useful about ozone. One guiding idea is we want to take our 330 categories and boil them down to much fewer categories that could be useful to explain ozone concentration.\n",
    "\n",
    "We know that ozone concentration is a function of pollution. Is there a function of time that might correlate with pollution? Maybe we are talking about when cars are on the road?\n",
    "\n",
    "I'm going to take a wild guess and go for weekday versus weekend, assuming that everyone is not working on the weekend and will be in their cars in Los Angeles. I will define a function to map the day of the year in 1976 to the binary weekend/weekday feature.\n",
    "\n",
    "You may use parts of this code to define your own feature(s) you think may be relevant: season? month? day of the week? That will be a task for later."
   ]
  },
  {
   "cell_type": "code",
   "execution_count": 105,
   "metadata": {},
   "outputs": [],
   "source": [
    "def is_weekend(doy):\n",
    "    first_day = datetime.date(year=1976, month=1, day=1)  # first day of the year in '76\n",
    "    day_in_question = first_day + datetime.timedelta(days=doy-1)  # add relevant number of days\n",
    "    return day_in_question.weekday() in [5, 6]  # 5 is sat, 6 in sun"
   ]
  },
  {
   "cell_type": "markdown",
   "metadata": {},
   "source": [
    "Since I am going to drop the original `doy` feature I am going to create a new copy of `data` into a new variable `my_data` which I can work with and no worry about losing what we've already loaded. It will keep the `data` variable alive later should you wish to do your own feature engineering."
   ]
  },
  {
   "cell_type": "code",
   "execution_count": 113,
   "metadata": {},
   "outputs": [],
   "source": [
    "my_data = data.copy()\n",
    "my_data['is_weekend'] = my_data['doy'].apply(is_weekend)\n",
    "my_data['is_weekday'] = my_data['is_weekend'] == False\n",
    "my_data = data.drop(['doy'], axis=1)"
   ]
  },
  {
   "cell_type": "code",
   "execution_count": 123,
   "metadata": {
    "scrolled": true
   },
   "outputs": [
    {
     "data": {
      "text/html": [
       "<div>\n",
       "<style scoped>\n",
       "    .dataframe tbody tr th:only-of-type {\n",
       "        vertical-align: middle;\n",
       "    }\n",
       "\n",
       "    .dataframe tbody tr th {\n",
       "        vertical-align: top;\n",
       "    }\n",
       "\n",
       "    .dataframe thead th {\n",
       "        text-align: right;\n",
       "    }\n",
       "</style>\n",
       "<table border=\"1\" class=\"dataframe\">\n",
       "  <thead>\n",
       "    <tr style=\"text-align: right;\">\n",
       "      <th></th>\n",
       "      <th>ozone</th>\n",
       "      <th>vh</th>\n",
       "      <th>wind</th>\n",
       "      <th>humidity</th>\n",
       "      <th>temp</th>\n",
       "      <th>ibh</th>\n",
       "      <th>dpg</th>\n",
       "      <th>ibt</th>\n",
       "      <th>vis</th>\n",
       "      <th>temp_squared</th>\n",
       "      <th>is_weekend</th>\n",
       "      <th>is_weekday</th>\n",
       "    </tr>\n",
       "  </thead>\n",
       "  <tbody>\n",
       "    <tr>\n",
       "      <th>0</th>\n",
       "      <td>3</td>\n",
       "      <td>5710</td>\n",
       "      <td>4</td>\n",
       "      <td>28</td>\n",
       "      <td>40</td>\n",
       "      <td>2693</td>\n",
       "      <td>-25</td>\n",
       "      <td>87</td>\n",
       "      <td>250</td>\n",
       "      <td>1600</td>\n",
       "      <td>True</td>\n",
       "      <td>False</td>\n",
       "    </tr>\n",
       "    <tr>\n",
       "      <th>1</th>\n",
       "      <td>5</td>\n",
       "      <td>5700</td>\n",
       "      <td>3</td>\n",
       "      <td>37</td>\n",
       "      <td>45</td>\n",
       "      <td>590</td>\n",
       "      <td>-24</td>\n",
       "      <td>128</td>\n",
       "      <td>100</td>\n",
       "      <td>2025</td>\n",
       "      <td>True</td>\n",
       "      <td>False</td>\n",
       "    </tr>\n",
       "    <tr>\n",
       "      <th>2</th>\n",
       "      <td>5</td>\n",
       "      <td>5760</td>\n",
       "      <td>3</td>\n",
       "      <td>51</td>\n",
       "      <td>54</td>\n",
       "      <td>1450</td>\n",
       "      <td>25</td>\n",
       "      <td>139</td>\n",
       "      <td>60</td>\n",
       "      <td>2916</td>\n",
       "      <td>False</td>\n",
       "      <td>True</td>\n",
       "    </tr>\n",
       "    <tr>\n",
       "      <th>3</th>\n",
       "      <td>6</td>\n",
       "      <td>5720</td>\n",
       "      <td>4</td>\n",
       "      <td>69</td>\n",
       "      <td>35</td>\n",
       "      <td>1568</td>\n",
       "      <td>15</td>\n",
       "      <td>121</td>\n",
       "      <td>60</td>\n",
       "      <td>1225</td>\n",
       "      <td>False</td>\n",
       "      <td>True</td>\n",
       "    </tr>\n",
       "    <tr>\n",
       "      <th>4</th>\n",
       "      <td>4</td>\n",
       "      <td>5790</td>\n",
       "      <td>6</td>\n",
       "      <td>19</td>\n",
       "      <td>45</td>\n",
       "      <td>2631</td>\n",
       "      <td>-33</td>\n",
       "      <td>123</td>\n",
       "      <td>100</td>\n",
       "      <td>2025</td>\n",
       "      <td>False</td>\n",
       "      <td>True</td>\n",
       "    </tr>\n",
       "  </tbody>\n",
       "</table>\n",
       "</div>"
      ],
      "text/plain": [
       "   ozone    vh  wind  humidity  temp   ibh  dpg  ibt  vis  temp_squared  \\\n",
       "0      3  5710     4        28    40  2693  -25   87  250          1600   \n",
       "1      5  5700     3        37    45   590  -24  128  100          2025   \n",
       "2      5  5760     3        51    54  1450   25  139   60          2916   \n",
       "3      6  5720     4        69    35  1568   15  121   60          1225   \n",
       "4      4  5790     6        19    45  2631  -33  123  100          2025   \n",
       "\n",
       "   is_weekend  is_weekday  \n",
       "0        True       False  \n",
       "1        True       False  \n",
       "2       False        True  \n",
       "3       False        True  \n",
       "4       False        True  "
      ]
     },
     "execution_count": 123,
     "metadata": {},
     "output_type": "execute_result"
    }
   ],
   "source": [
    "my_data.head()"
   ]
  },
  {
   "cell_type": "markdown",
   "metadata": {},
   "source": [
    "It is a nice idea to return to the head of the data frame to confirm your code has worked."
   ]
  },
  {
   "cell_type": "markdown",
   "metadata": {},
   "source": [
    "## Fit the Model\n",
    "\n",
    "We are now ready to fit the model. However, we have not talked about train and test splits. This is an example of a dataset where they haven't given us splits. It would be good practice to use 10-fold cross-validation in a case like this.\n",
    "\n",
    "But for the simplicity of this tutorial we are going to generate a random split using `sklearn.model_selection.train_test_split`. This is your next task - reference http://scikit-learn.org/stable/modules/generated/sklearn.model_selection.train_test_split.html. We want two variables named `train` and `test`.\n",
    "\n",
    "To make sure we all have the same splits we are going to control this randomization by setting the randoms seeds in the `random` and `numpy` packages, that way we can compare MSEs on the exact same splits."
   ]
  },
  {
   "cell_type": "code",
   "execution_count": 124,
   "metadata": {},
   "outputs": [],
   "source": [
    "random.seed(42)\n",
    "np.random.seed(42)\n",
    "\"\"\"\n",
    "Task: create train and test splits\n",
    "\"\"\"\n",
    "train, test = model_selection.train_test_split(my_data)"
   ]
  },
  {
   "cell_type": "code",
   "execution_count": 119,
   "metadata": {},
   "outputs": [
    {
     "name": "stdout",
     "output_type": "stream",
     "text": [
      "Success!\n"
     ]
    }
   ],
   "source": [
    "assert len(train) == 247\n",
    "assert len(test) == 83\n",
    "print('Success!')"
   ]
  },
  {
   "cell_type": "markdown",
   "metadata": {},
   "source": [
    "Next we will have to define our `x` and `y` for the train and test splits. Remember the selection syntax from linear regression\n",
    "\n",
    "```\n",
    "new_data = data.loc[:, column_selection_vector]\n",
    "```\n",
    "\n",
    "The response can just be indexed by the colum name. The name of the response variable is `'ozone`'.\n",
    "\n",
    "We must have variables named\n",
    "- `x_train`\n",
    "- `y_train`\n",
    "- `x_test`\n",
    "- `y_test`"
   ]
  },
  {
   "cell_type": "code",
   "execution_count": 128,
   "metadata": {},
   "outputs": [],
   "source": [
    "\"\"\"\n",
    "Task: Create x_train, y_train, x_test, y_test\n",
    "\"\"\"\n",
    "x_train = train.loc[:, my_data.columns != 'ozone']\n",
    "y_train = train['ozone']\n",
    "x_test = test.loc[:, my_data.columns != 'ozone']\n",
    "y_test = test['ozone']"
   ]
  },
  {
   "cell_type": "code",
   "execution_count": 131,
   "metadata": {},
   "outputs": [
    {
     "name": "stdout",
     "output_type": "stream",
     "text": [
      "Success!\n"
     ]
    }
   ],
   "source": [
    "assert len(x_train) == 247\n",
    "assert len(x_train.columns) == 11\n",
    "assert len(y_train) == 247\n",
    "assert len(x_test) == 83\n",
    "assert len(x_test.columns) == 11\n",
    "assert len(y_test) == 83\n",
    "print('Success!')"
   ]
  },
  {
   "cell_type": "markdown",
   "metadata": {},
   "source": [
    "Now we are ready to fit the model"
   ]
  },
  {
   "cell_type": "code",
   "execution_count": 132,
   "metadata": {
    "scrolled": true
   },
   "outputs": [
    {
     "name": "stdout",
     "output_type": "stream",
     "text": [
      "Train MSE: 17.408832721330455\n",
      "Test MSE: 20.083770675675225\n"
     ]
    }
   ],
   "source": [
    "model = linear_model.LinearRegression(normalize=False, fit_intercept=True)\n",
    "model.fit(x_train, y_train)\n",
    "train_preds = model.predict(x_train)\n",
    "test_preds = model.predict(x_test)\n",
    "train_mse = metrics.mean_squared_error(y_train, train_preds)\n",
    "test_mse = metrics.mean_squared_error(y_test, test_preds)\n",
    "print('Train MSE: %s' % train_mse)\n",
    "print('Test MSE: %s' % test_mse)"
   ]
  },
  {
   "cell_type": "markdown",
   "metadata": {},
   "source": [
    "These values look very large compared to what we saw in linear regression. So it is important to get a feel for how good is this relative to the response.\n",
    "\n",
    "Let's determine the percentage of the interval between min and max values that the error spans as a kind of proxy \"accuracy\""
   ]
  },
  {
   "cell_type": "code",
   "execution_count": 135,
   "metadata": {},
   "outputs": [
    {
     "data": {
      "text/plain": [
       "0.12112140579623575"
      ]
     },
     "execution_count": 135,
     "metadata": {},
     "output_type": "execute_result"
    }
   ],
   "source": [
    "test_smse = np.sqrt(test_mse)\n",
    "y_min = data['ozone'].min()\n",
    "y_max = data['ozone'].max()\n",
    "test_smse / (y_max - y_min)"
   ]
  },
  {
   "cell_type": "markdown",
   "metadata": {},
   "source": [
    "Let's get a feel for how good my own engineered features did by fitting again without these. We will use the shorthand `nf` in our new variable names to indicate \"no engineered features\"."
   ]
  },
  {
   "cell_type": "code",
   "execution_count": 138,
   "metadata": {},
   "outputs": [
    {
     "name": "stdout",
     "output_type": "stream",
     "text": [
      "Train MSE: 17.443113041237925\n",
      "Test MSE: 19.91569758189533\n"
     ]
    }
   ],
   "source": [
    "x_train_nf = x_train.drop(['is_weekend', 'is_weekday'], axis=1)\n",
    "x_test_nf = x_test.drop(['is_weekend', 'is_weekday'], axis=1)\n",
    "model_nf = linear_model.LinearRegression(normalize=False, fit_intercept=True)\n",
    "model_nf.fit(x_train_nf, y_train)\n",
    "train_preds_nf = model_nf.predict(x_train_nf)\n",
    "test_preds_nf = model_nf.predict(x_test_nf)\n",
    "train_mse_nf = metrics.mean_squared_error(y_train, train_preds_nf)\n",
    "test_mse_nf = metrics.mean_squared_error(y_test, test_preds_nf)\n",
    "print('Train MSE: %s' % train_mse_nf)\n",
    "print('Test MSE: %s' % test_mse_nf)"
   ]
  },
  {
   "cell_type": "markdown",
   "metadata": {},
   "source": [
    "My features were just noise that led to overfitting! It turns out there was no real relationship between weekend/weekday and ozone levels in LA in 1976!\n",
    "\n",
    "It is now your turn to improve our test MSE once again. Think about developing your own features. Explore the relationships with other variables in the data with scatter plots. Do some feature selection to regularize. Consider ridge regression."
   ]
  },
  {
   "cell_type": "code",
   "execution_count": null,
   "metadata": {},
   "outputs": [],
   "source": [
    "\"\"\"\n",
    "Task: Beat test MSE of 20.08\n",
    "\"\"\"\n"
   ]
  }
 ],
 "metadata": {
  "kernelspec": {
   "display_name": "Python [conda env:py36]",
   "language": "python",
   "name": "conda-env-py36-py"
  },
  "language_info": {
   "codemirror_mode": {
    "name": "ipython",
    "version": 3
   },
   "file_extension": ".py",
   "mimetype": "text/x-python",
   "name": "python",
   "nbconvert_exporter": "python",
   "pygments_lexer": "ipython3",
   "version": "3.6.6"
  }
 },
 "nbformat": 4,
 "nbformat_minor": 2
}
