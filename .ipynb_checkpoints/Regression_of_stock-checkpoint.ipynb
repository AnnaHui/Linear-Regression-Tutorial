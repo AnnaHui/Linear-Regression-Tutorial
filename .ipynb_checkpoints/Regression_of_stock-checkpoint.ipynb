{
 "cells": [
  {
   "cell_type": "markdown",
   "metadata": {},
   "source": [
    "# Regression Tutorial\n",
    "\n"
   ]
  },
  {
   "cell_type": "markdown",
   "metadata": {},
   "source": [
    "## Import packages\n",
    "\n",
    "Import packages to make most of the third-party functions work.\n"
   ]
  },
  {
   "cell_type": "code",
   "execution_count": 77,
   "metadata": {},
   "outputs": [],
   "source": [
    "import numpy as np\n",
    "import csv\n",
    "import matplotlib.pyplot as plt"
   ]
  },
  {
   "cell_type": "markdown",
   "metadata": {},
   "source": [
    "## Read data from .csv\n",
    "\n",
    "The simple way to read data from our .csv file.\n"
   ]
  },
  {
   "cell_type": "code",
   "execution_count": 78,
   "metadata": {},
   "outputs": [],
   "source": [
    "price_list = list()\n",
    "\n",
    "# read s&p500 data\n",
    "with open('S&P500.csv','r') as f:\n",
    "    for row in csv.reader(f,delimiter=','):\n",
    "            price_list.append(row[4])"
   ]
  },
  {
   "cell_type": "markdown",
   "metadata": {},
   "source": [
    "  ## Save as numpy array\n",
    "  \n",
    "  It's such a better data type to store data."
   ]
  },
  {
   "cell_type": "code",
   "execution_count": 79,
   "metadata": {
    "scrolled": true
   },
   "outputs": [
    {
     "data": {
      "text/plain": [
       "array([1426.19, 1462.42, 1459.37, ..., 2639.4 , 2666.94, 2669.91],\n",
       "      dtype=float32)"
      ]
     },
     "execution_count": 79,
     "metadata": {},
     "output_type": "execute_result"
    }
   ],
   "source": [
    "data = np.array(price_list[1:],dtype=np.float32)\n",
    "data"
   ]
  },
  {
   "cell_type": "markdown",
   "metadata": {},
   "source": [
    "## Supposed to  them split into two parts as training data and testing data\n",
    "\n",
    "We predict next price by the current price."
   ]
  },
  {
   "cell_type": "code",
   "execution_count": 80,
   "metadata": {},
   "outputs": [],
   "source": [
    "split_rate = 0.2 # HOW TO DIVIDE TRAINING DATA AND TESTING DATA\n",
    "\n",
    "# original data combine with bias,\n",
    "# just like y = Ax + b\n",
    "data = data.reshape(-1,1)\n",
    "data = np.concatenate((data, np.ones(len(data)).reshape(-1,1)), axis=1)\n",
    "\n",
    "# training data\n",
    "train_X = data[:-round(len(data)*split_rate)-1]\n",
    "train_y = data[1:-round(len(data)*split_rate),0]\n",
    "\n",
    "# testing data\n",
    "test_X = data[-round(len(data)*split_rate)-1:-1]\n",
    "test_y = data[-round(len(data)*split_rate):, 0]"
   ]
  },
  {
   "attachments": {},
   "cell_type": "markdown",
   "metadata": {},
   "source": [
    "## Least Square Equation\n",
    "\n",
    "Mathematically, linear least squares is the problem of approximately solving an overdetermined system of linear equations, where the best approximation is defined as that which minimizes the sum of squared differences between the data values and their corresponding modeled values. The approach is called linear least squares since the assumed function is linear in the parameters to be estimated. \n",
    "\n",
    "from wiki  https://en.wikipedia.org/wiki/Linear_least_squares_(mathematics)"
   ]
  },
  {
   "cell_type": "code",
   "execution_count": 81,
   "metadata": {},
   "outputs": [],
   "source": [
    "def least_square_equation(X, y):\n",
    "    # write down the answer of Least square equation !\n",
    "    # (X.T*X)^-1*X.T*y\n",
    "    return np.dot(np.dot(np.linalg.inv(np.dot(X.T, X)), X.T), y)"
   ]
  },
  {
   "attachments": {},
   "cell_type": "markdown",
   "metadata": {},
   "source": [
    "## Residual sum of squares\n",
    "\n",
    "In statistics, the residual sum of squares (RSS), also known as the sum of squared residuals (SSR) or the sum of squared errors of prediction (SSE), is the sum of the squares of residuals (deviations predicted from actual empirical values of data). It is a measure of the discrepancy between the data and an estimation model. A small RSS indicates a tight fit of the model to the data. It is used as an optimality criterion in parameter selection and model selection.\n",
    "\n",
    "from wiki https://en.wikipedia.org/wiki/Residual_sum_of_squares"
   ]
  },
  {
   "cell_type": "code",
   "execution_count": 82,
   "metadata": {},
   "outputs": [],
   "source": [
    "def sum_of_square_error(fx, y):\n",
    "    E = y - fx\n",
    "    # write down the answer of Sum square error !\n",
    "    # E.T*E\n",
    "    return np.dot(E.T,E)"
   ]
  },
  {
   "cell_type": "markdown",
   "metadata": {},
   "source": [
    "## Linear regression method\n",
    "\n",
    "the entry of LR."
   ]
  },
  {
   "cell_type": "code",
   "execution_count": 83,
   "metadata": {},
   "outputs": [],
   "source": [
    "def linear_regression(X, y):\n",
    "    W = least_square_equation(X, y)\n",
    "    return W # the weight A ([weight]*[x] = [y])"
   ]
  },
  {
   "cell_type": "code",
   "execution_count": 93,
   "metadata": {},
   "outputs": [],
   "source": [
    "weight = linear_regression(train_X,train_y) # get weight\n",
    "pred_y = np.sum(weight*test_X, axis=1) # weight * X\n",
    "SSE = sum_of_square_error(pred_y, test_y) # get current error"
   ]
  },
  {
   "cell_type": "code",
   "execution_count": 95,
   "metadata": {},
   "outputs": [
    {
     "data": {
      "text/plain": [
       "106684.77350140673"
      ]
     },
     "execution_count": 95,
     "metadata": {},
     "output_type": "execute_result"
    }
   ],
   "source": [
    "SSE # sum_of_square_error"
   ]
  },
  {
   "cell_type": "markdown",
   "metadata": {},
   "source": [
    "## Visualization\n"
   ]
  },
  {
   "cell_type": "code",
   "execution_count": 91,
   "metadata": {},
   "outputs": [
    {
     "data": {
      "image/png": "[encoded data removed]",
      "text/plain": [
       "<matplotlib.figure.Figure at 0x7f138f728dd8>"
      ]
     },
     "metadata": {},
     "output_type": "display_data"
    }
   ],
   "source": [
    "plt.scatter(test_X[:,0] ,test_y,  label='actural y',c='b')\n",
    "plt.plot(test_X[:,0] ,pred_y,  label='prediction y',c='r')\n",
    "plt.legend(loc='upper right')\n",
    "plt.ylabel('target')\n",
    "plt.xlabel('data number')\n",
    "plt.show()"
   ]
  }
 ],
 "metadata": {
  "kernelspec": {
   "display_name": "Python 3",
   "language": "python",
   "name": "python3"
  },
  "language_info": {
   "codemirror_mode": {
    "name": "ipython",
    "version": 3
   },
   "file_extension": ".py",
   "mimetype": "text/x-python",
   "name": "python",
   "nbconvert_exporter": "python",
   "pygments_lexer": "ipython3",
   "version": "3.5.2"
  }
 },
 "nbformat": 4,
 "nbformat_minor": 2
}
